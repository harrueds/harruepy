{
  "cells": [
    {
      "cell_type": "markdown",
      "metadata": {
        "id": "view-in-github",
        "colab_type": "text"
      },
      "source": [
        "<a href=\"https://colab.research.google.com/github/harrueds/harruepy/blob/main/Calculadora.ipynb\" target=\"_parent\"><img src=\"https://colab.research.google.com/assets/colab-badge.svg\" alt=\"Open In Colab\"/></a>"
      ]
    },
    {
      "cell_type": "code",
      "execution_count": null,
      "metadata": {
        "colab": {
          "base_uri": "https://localhost:8080/"
        },
        "id": "w7bRJON2ZKfm",
        "outputId": "3437398d-e576-41d1-f5a3-9b8c97e655ec"
      },
      "outputs": [
        {
          "output_type": "stream",
          "name": "stdout",
          "text": [
            "Bienvenido a la calculadora de números enteros, decimales y complejos\n",
            "1. Números reales\n",
            "2. Números complejos\n",
            "Seleccióne qué operacion quiere realizar:2\n",
            "Ingrese el primer número complejo(Ej: 1+2j):9+j\n",
            "Ingrese el segundo número complejo(Ej: 3+1j):7+2j\n",
            "\n",
            "Operaciones:\n",
            "Suma\n",
            "Resta\n",
            "Multiplicacion\n",
            "Division\n",
            "Modulo\n",
            "Ingrese el nombre de la operacion que quiera realizar, escribalo tal cual se muestre en el menu:suma\n",
            "el resultado de la suma es: (16+3j)\n",
            "Gracias por ocupar mi codigo :)\n"
          ]
        }
      ],
      "source": [
        "\n",
        "\n",
        "print(\"Bienvenido a la calculadora de números enteros, decimales y complejos\")\n",
        "while True:\n",
        "    print(\"1. Números reales\")\n",
        "    print(\"2. Números complejos\")\n",
        "    op=input(\"Seleccióne qué operacion quiere realizar:\")\n",
        "    if op == '1':\n",
        "        num1=float(input(\"Ingrese el primer número entero o decimal:\"))\n",
        "        num2=float(input(\"Ingrese el segundo número entero o decimal:\"))\n",
        "        break\n",
        "    elif op == '2':\n",
        "        num1=complex(input(\"Ingrese el primer número complejo(Ej: 1+2j):\"))\n",
        "        num2=complex(input(\"Ingrese el segundo número complejo(Ej: 3+1j):\"))\n",
        "        break\n",
        "    else:\n",
        "         print(\"Opción invalida, seleccione 1 o 2\")\n",
        "\n",
        "print(\"\\nOperaciones:\")\n",
        "print(\"Suma\")\n",
        "print(\"Resta\")\n",
        "print(\"Multiplicacion\")\n",
        "print(\"Division\")\n",
        "print(\"Modulo\")\n",
        "op1=input(\"Ingrese el nombre de la operacion que quiera realizar, escribalo tal cual se muestre en el menu:\")\n",
        "op1=op1.upper()\n",
        "if op1 == 'SUMA':\n",
        "      resultado = num1 + num2\n",
        "      print(\"el resultado de la suma es:\", resultado)\n",
        "elif op1 == 'RESTA':\n",
        "      resultado = num1 - num2\n",
        "      print(\"el resultado de la resta es:\", resultado)\n",
        "elif op1 == 'MULTIPLICACION':\n",
        "      resultado = num1 * num2\n",
        "      print(\"el resultado de la multiplicacion es:\", resultado)\n",
        "elif op1 == 'DIVISION':\n",
        "    if num2 == 0:\n",
        "        print(\"No se puede dividir entre 0\")\n",
        "    else:\n",
        "         resultado = num1 / num2\n",
        "         print(\"el resultado de la division es:\", resultado)\n",
        "elif op1 == 'MODULO':\n",
        "      resultado = num1 % num2\n",
        "      print(\"el resultado del modulo es:\", resultado)\n",
        "else:\n",
        "     print(\"La opcion que selecciono no esta disponible o es invalida\")\n",
        "print(\"Gracias por ocupar mi codigo :)\")"
      ]
    }
  ],
  "metadata": {
    "colab": {
      "provenance": [],
      "include_colab_link": true
    },
    "kernelspec": {
      "display_name": "Python 3",
      "name": "python3"
    },
    "language_info": {
      "name": "python"
    }
  },
  "nbformat": 4,
  "nbformat_minor": 0
}