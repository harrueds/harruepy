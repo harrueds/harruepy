{
 "cells": [
  {
   "cell_type": "markdown",
   "metadata": {},
   "source": [
    "# Introducción\n",
    "\n",
    "## Pensamiento Computacional.\n",
    "\n",
    "¿Qué es?\n",
    "- Es una forma de razonar, que se enfoca en la resolución de problemas a través de algoritmos.\n",
    "¿Qué es un algoritmo?\n",
    "- Es un proceso ordenado, secuencial o multisecuencial, que permite realizar una acción u obtener un resultado.\n",
    "\n",
    "## Ejemplos de algoritmos\n",
    "La clásica taza de café:\n",
    "Sin entrar en detalles capciosos... para preparar una taza de café en base a café en polvo, los pasos son mas o menos los siguientes:\n",
    "0.- Tener intenciones de preparar una taza de café.\n",
    "1.- Tener una taza.\n",
    "2.- Tener café en polvo.\n",
    "3.- Tener agua caliente.\n",
    "4.- Poner café en polvo en la taza / Poner agua caliente en la taza\n",
    "5.- Mezclar el café con el agua\n",
    "6.- Taza de café terminada."
   ]
  }
 ],
 "metadata": {
  "language_info": {
   "name": "python"
  }
 },
 "nbformat": 4,
 "nbformat_minor": 2
}
